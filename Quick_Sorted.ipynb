{
 "cells": [
  {
   "cell_type": "code",
   "execution_count": 55,
   "metadata": {},
   "outputs": [
    {
     "name": "stdout",
     "output_type": "stream",
     "text": [
      "[2, 23, 45, 123, 213, 324, 645]\n"
     ]
    }
   ],
   "source": [
    "def qucik_sort(arr,low,high):\n",
    "    if low<high:\n",
    "        index=partition(arr,low,high)\n",
    "        qucik_sort(arr,low,index-1)\n",
    "        qucik_sort(arr,index+1,high)\n",
    "        \n",
    "def partition(arr,low,high):\n",
    "    left=low\n",
    "    right=high\n",
    "    key=arr[low]\n",
    "    while left<right:\n",
    "        while arr[right]>=key and left<right :\n",
    "            right-=1\n",
    "        while arr[left]<=key  and left<right: \n",
    "            left+=1\n",
    "\n",
    "\n",
    "        if left<right:\n",
    "            arr[left],arr[right]=arr[right],arr[left]\n",
    "    arr[low],arr[left]=arr[left],arr[low]\n",
    "    return left\n",
    "list=[2,45,23,645,324,213,123]\n",
    "qucik_sort(list,0,len(list)-1)\n",
    "print(list)"
   ]
  },
  {
   "cell_type": "markdown",
   "metadata": {
    "collapsed": true
   },
   "source": [
    "快排思路"
   ]
  },
  {
   "cell_type": "markdown",
   "metadata": {},
   "source": [
    "1、选定比较基准，一般选择第一个或者最后一个值\n",
    "2、选定第一个值为基准，从后往前找第一个比基准值小的值记录索引right，从前往后找第一个比基准值大的值记录索引left,\n",
    "   交换两数。（选定基准为第一个值，一定要从后往前找）\n",
    "3、当left>=right，交换基准值和left指向的值\n",
    "4、循环"
   ]
  },
  {
   "cell_type": "code",
   "execution_count": null,
   "metadata": {
    "collapsed": true
   },
   "outputs": [],
   "source": []
  }
 ],
 "metadata": {
  "kernelspec": {
   "display_name": "Python 3",
   "language": "python",
   "name": "python3"
  },
  "language_info": {
   "codemirror_mode": {
    "name": "ipython",
    "version": 3
   },
   "file_extension": ".py",
   "mimetype": "text/x-python",
   "name": "python",
   "nbconvert_exporter": "python",
   "pygments_lexer": "ipython3",
   "version": "3.6.3"
  }
 },
 "nbformat": 4,
 "nbformat_minor": 2
}
