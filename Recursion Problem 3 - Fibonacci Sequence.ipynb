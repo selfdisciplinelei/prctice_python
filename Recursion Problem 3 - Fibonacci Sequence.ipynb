{
 "cells": [
  {
   "cell_type": "markdown",
   "metadata": {
    "collapsed": true
   },
   "source": [
    "# Fibonnaci Sequence\n",
    "\n",
    "In this interview excercise we will begin to get a feel of having to solve a single problem multiple ways!\n",
    "\n",
    "## Problem Statement\n",
    "\n",
    "Implement a [Fibonnaci Sequence](https://en.wikipedia.org/wiki/Fibonacci_number) in three different ways:\n",
    "\n",
    "* Recursively\n",
    "* Dynamically (Using Memoization to store results)\n",
    "* Iteratively\n",
    "___\n",
    "#### Function Output\n",
    "Your function will accept a number **n** and return the **nth** number of the fibonacci sequence\n",
    "___\n",
    "Remember that a fibonacci sequence: 0,1,1,2,3,5,8,13,21,... starts off with a base case checking to see if n = 0 or 1, then it returns 1. \n",
    "\n",
    "Else it returns fib(n-1)+fib(n+2).\n",
    "\n",
    "____\n",
    "\n",
    "## Fill Out Your Solutions Below"
   ]
  },
  {
   "cell_type": "markdown",
   "metadata": {},
   "source": [
    "### Recursively\n",
    "\n",
    "Solve the problem using simple recursion."
   ]
  },
  {
   "cell_type": "code",
   "execution_count": 2,
   "metadata": {
    "collapsed": true
   },
   "outputs": [],
   "source": [
    "def fib_rec(n):\n",
    "    if n==0:\n",
    "        return 0\n",
    "    if n==1:\n",
    "        return 1\n",
    "    else:\n",
    "        return fib_rec(n-1)+fib_rec(n-2)\n",
    "    pass"
   ]
  },
  {
   "cell_type": "code",
   "execution_count": 3,
   "metadata": {},
   "outputs": [
    {
     "data": {
      "text/plain": [
       "28657"
      ]
     },
     "execution_count": 3,
     "metadata": {},
     "output_type": "execute_result"
    }
   ],
   "source": [
    "fib_rec(23)"
   ]
  },
  {
   "cell_type": "markdown",
   "metadata": {},
   "source": [
    "### Dynamically\n",
    "\n",
    "Implement the function using dynamic programming by using a cache to store results (memoization)."
   ]
  },
  {
   "cell_type": "code",
   "execution_count": 4,
   "metadata": {
    "collapsed": true
   },
   "outputs": [],
   "source": [
    "# Instantiate Cache information\n",
    "n = 10\n",
    "cache = [None] * (n + 1)\n",
    "\n",
    "\n",
    "def fib_dyn(n):\n",
    "    return 1\n",
    "    pass"
   ]
  },
  {
   "cell_type": "code",
   "execution_count": 5,
   "metadata": {},
   "outputs": [
    {
     "data": {
      "text/plain": [
       "1"
      ]
     },
     "execution_count": 5,
     "metadata": {},
     "output_type": "execute_result"
    }
   ],
   "source": [
    "fib_dyn(10)"
   ]
  },
  {
   "cell_type": "markdown",
   "metadata": {},
   "source": [
    "### Iteratively\n",
    "\n",
    "Implement the solution with simple iteration."
   ]
  },
  {
   "cell_type": "code",
   "execution_count": 6,
   "metadata": {
    "collapsed": true
   },
   "outputs": [],
   "source": [
    "def fib_iter(n):\n",
    "    if n==0:\n",
    "        return 0\n",
    "    if n==1:\n",
    "        return 1\n",
    "    else:\n",
    "        return fib_rec(n-1)+fib_rec(n-2)\n",
    "    pass"
   ]
  },
  {
   "cell_type": "code",
   "execution_count": 7,
   "metadata": {},
   "outputs": [
    {
     "data": {
      "text/plain": [
       "28657"
      ]
     },
     "execution_count": 7,
     "metadata": {},
     "output_type": "execute_result"
    }
   ],
   "source": [
    "fib_iter(23)"
   ]
  },
  {
   "cell_type": "markdown",
   "metadata": {},
   "source": [
    "# Test Your Solution\n",
    "\n",
    "Run the cell below to test your solutions, simply uncomment the solution functions you wish to test!"
   ]
  },
  {
   "cell_type": "code",
   "execution_count": 8,
   "metadata": {},
   "outputs": [
    {
     "name": "stdout",
     "output_type": "stream",
     "text": [
      "Passed all tests.\n"
     ]
    }
   ],
   "source": [
    "\"\"\"\n",
    "UNCOMMENT THE CODE AT THE BOTTOM OF THIS CELL TO SELECT WHICH SOLUTIONS TO TEST.\n",
    "THEN RUN THE CELL.\n",
    "\"\"\"\n",
    "\n",
    "from nose.tools import assert_equal\n",
    "\n",
    "class TestFib(object):\n",
    "    \n",
    "    def test(self,solution):\n",
    "        assert_equal(solution(10),55)\n",
    "        assert_equal(solution(1),1)\n",
    "        assert_equal(solution(23),28657)\n",
    "        print ('Passed all tests.')\n",
    "# UNCOMMENT FOR CORRESPONDING FUNCTION\n",
    "t = TestFib()\n",
    "\n",
    "t.test(fib_rec)\n",
    "#t.test(fib_dyn) # Note, will need to reset cache size for each test!\n",
    "#t.test(fib_iter)"
   ]
  },
  {
   "cell_type": "markdown",
   "metadata": {},
   "source": [
    "# Conclusion\n",
    "\n",
    "Hopefully this interview question served as a good excercise in exploring recursion, dynamic programming, and iterative solutions for a single problem! Its good to work through all three because in an interview a common question may just begin with requesting a recursive solution and then checking to se if you can implement the other forms!"
   ]
  },
  {
   "cell_type": "markdown",
   "metadata": {},
   "source": [
    "# Yield 生成器"
   ]
  },
  {
   "cell_type": "code",
   "execution_count": 22,
   "metadata": {
    "collapsed": true
   },
   "outputs": [],
   "source": [
    "def fib(num):\n",
    "    n,a,b=0,0,1\n",
    "    if num==1:\n",
    "        print(0)\n",
    "    if num==2:\n",
    "        print(1)\n",
    "    while n<num and num>2:\n",
    "        yield b\n",
    "        a,b=b,a+b\n",
    "        n+=1\n",
    "# for i in fib(6):\n",
    "#     print(i,' ') "
   ]
  },
  {
   "cell_type": "code",
   "execution_count": 26,
   "metadata": {},
   "outputs": [
    {
     "data": {
      "text/plain": [
       "1"
      ]
     },
     "execution_count": 26,
     "metadata": {},
     "output_type": "execute_result"
    }
   ],
   "source": [
    "f=fib(5)\n",
    "f.__next__()"
   ]
  },
  {
   "cell_type": "code",
   "execution_count": 27,
   "metadata": {},
   "outputs": [
    {
     "data": {
      "text/plain": [
       "1"
      ]
     },
     "execution_count": 27,
     "metadata": {},
     "output_type": "execute_result"
    }
   ],
   "source": [
    "f.__next__()"
   ]
  },
  {
   "cell_type": "code",
   "execution_count": 28,
   "metadata": {},
   "outputs": [
    {
     "data": {
      "text/plain": [
       "2"
      ]
     },
     "execution_count": 28,
     "metadata": {},
     "output_type": "execute_result"
    }
   ],
   "source": [
    "f.__next__()"
   ]
  },
  {
   "cell_type": "code",
   "execution_count": 29,
   "metadata": {},
   "outputs": [
    {
     "data": {
      "text/plain": [
       "3"
      ]
     },
     "execution_count": 29,
     "metadata": {},
     "output_type": "execute_result"
    }
   ],
   "source": [
    "f.__next__()"
   ]
  },
  {
   "cell_type": "code",
   "execution_count": 30,
   "metadata": {},
   "outputs": [
    {
     "data": {
      "text/plain": [
       "5"
      ]
     },
     "execution_count": 30,
     "metadata": {},
     "output_type": "execute_result"
    }
   ],
   "source": [
    "f.__next__()"
   ]
  },
  {
   "cell_type": "code",
   "execution_count": 92,
   "metadata": {},
   "outputs": [
    {
     "name": "stdout",
     "output_type": "stream",
     "text": [
      "<generator object read at 0x7f9bf02f20f8>\n"
     ]
    }
   ],
   "source": [
    "def read(file):\n",
    "    with open(file) as f:\n",
    "        line=f.readline()\n",
    "        while line:\n",
    "            yield line\n",
    "            line=f.readline()\n",
    "file=read('read.txt')\n",
    "print(file)\n",
    "# for item in file:\n",
    "#     print(item)"
   ]
  },
  {
   "cell_type": "code",
   "execution_count": 97,
   "metadata": {},
   "outputs": [
    {
     "data": {
      "text/plain": [
       "'现在想来，我的阅读历程。小学第一本书是《名人传》，黄皮书厚厚的一本，是在北京读大学的姐姐回家送我的礼物。姐姐是我的偶像，很认真的读，每一篇后面会写长长的读后\\n'"
      ]
     },
     "execution_count": 97,
     "metadata": {},
     "output_type": "execute_result"
    }
   ],
   "source": [
    "f=read(\"read.txt\")\n",
    "f.__next__()"
   ]
  },
  {
   "cell_type": "code",
   "execution_count": 98,
   "metadata": {},
   "outputs": [
    {
     "data": {
      "text/plain": [
       "'感。初中，因为《钢铁是怎样练成的》开始读国外小说，读英国贵族或糜烂奢华的生活，或知书达理的小姐不卑不亢的爱情，还有令战士们迷了心智的交际花。作者笔下的人物，\\n'"
      ]
     },
     "execution_count": 98,
     "metadata": {},
     "output_type": "execute_result"
    }
   ],
   "source": [
    "f.__next__()"
   ]
  },
  {
   "cell_type": "code",
   "execution_count": 99,
   "metadata": {},
   "outputs": [
    {
     "name": "stdout",
     "output_type": "stream",
     "text": [
      "现在想来，我的阅读历程。小学第一本书是《名人传》，黄皮书厚厚的一本，是在北京读大学的姐姐回家送我的礼物。姐姐是我的偶像，很认真的读，每一篇后面会写长长的读后\n",
      "感。初中，因为《钢铁是怎样练成的》开始读国外小说，读英国贵族或糜烂奢华的生活，或知书达理的小姐不卑不亢的爱情，还有令战士们迷了心智的交际花。作者笔下的人物，\n",
      "敢爱敢恨，赤裸裸地情感表达，性格造就极端人生。欧美人的open是可以追根溯源的。同时期读了《红楼梦》，那种保守、小心翼翼又欲说还休的表达，与之形成鲜明对比，各有\n",
      "韵味儿。高中订阅《意林》，不是文摘和读者，虽说内容相似，但我独爱《意林》绿油油的封面设计，看笑话读短篇情感故事。大学，图书馆丰富的藏书打开了我新世界，读麦\n",
      "家，把图书馆所有麦家的作品找来读。麦家写谍战素材，他讲地下情报人员惊心动魄的一生，“嘀嘀嗒，嘀嗒嗒.....”摩斯密码在旧式的电报网中博弈。读三毛，《梦里》、\n",
      "《撒哈拉》、《稻草人》、《雨季不再来》，我很迷恋的一个女人，羡慕她与荷西的深情。李同学有些难过，提到三毛内心纵使五味杂陈却想不出辞藻表达。借用高老师的一句\n",
      "话，“一生温暖纯良，不舍爱与自由”，这是高老师送给女儿的祝愿，三毛是真真过成了这样的一生。此话也送给自己。研究生期间读的比较杂，今何在的《悟空传》令我醍醐灌\n",
      "顶。起因是这样的，我不明白年末贺岁大片导演们为何百般青睐这孙猴儿，从小到大，会十八般武艺的齐天大圣以各种影视形式出现在荧幕上，不是玄奘、沙僧、八戒，独有\n",
      "这“泼猴”，仅此一份。看了影片写了影评，朋友微博抽奖得了本《悟空传》送给了我。我是在回学校的火车上翻开的这本书，我总形容绿皮火车是市井生活的大杂烩，喜欢坐火\n",
      "车却习惯不了泡面味儿。感受不佳，阅读也毫无兴致。我记不得是哪个节日，宿舍只我一人，扫了一眼书架，又翻开了这本书，我是一口气读完的，过程中不断为今何在的解读惊\n",
      "叹。《西游记》不单单讲西天取经、打怪升级的故事，今何在给我讲了另一个故事。西天就在西方？向西走就是前进？紧箍咒是玄奘的武器还是孙猴儿的心魔？个中滋味，如人饮\n",
      "水，冷暖自知。读《穆斯林的葬礼》、《挪威的森林》、《追风筝的人》让我热泪盈眶，身处绝境依然用尽微薄但是全部的力量施与善意，他们是手朝下的人，随时准备着给予。\n",
      "也要做这般人，手朝下。还会读很多很多书，那些书中不明白的道理，在日后某一瞬间突然就懂了那便是岁月的力量。\n"
     ]
    }
   ],
   "source": [
    "try:\n",
    "    f=open(\"read.txt\")\n",
    "    print (f.read())\n",
    "finally:\n",
    "    if f:\n",
    "        f.close()"
   ]
  },
  {
   "cell_type": "code",
   "execution_count": 100,
   "metadata": {},
   "outputs": [
    {
     "name": "stdout",
     "output_type": "stream",
     "text": [
      "现在想来，我的阅读历程。小学第一本书是《名人传》，黄皮书厚厚的一本，是在北京读大学的姐姐回家送我的礼物。姐姐是我的偶像，很认真的读，每一篇后面会写长长的读后\n",
      "\n",
      "感。初中，因为《钢铁是怎样练成的》开始读国外小说，读英国贵族或糜烂奢华的生活，或知书达理的小姐不卑不亢的爱情，还有令战士们迷了心智的交际花。作者笔下的人物，\n",
      "\n",
      "敢爱敢恨，赤裸裸地情感表达，性格造就极端人生。欧美人的open是可以追根溯源的。同时期读了《红楼梦》，那种保守、小心翼翼又欲说还休的表达，与之形成鲜明对比，各有\n",
      "\n",
      "韵味儿。高中订阅《意林》，不是文摘和读者，虽说内容相似，但我独爱《意林》绿油油的封面设计，看笑话读短篇情感故事。大学，图书馆丰富的藏书打开了我新世界，读麦\n",
      "\n",
      "家，把图书馆所有麦家的作品找来读。麦家写谍战素材，他讲地下情报人员惊心动魄的一生，“嘀嘀嗒，嘀嗒嗒.....”摩斯密码在旧式的电报网中博弈。读三毛，《梦里》、\n",
      "\n",
      "《撒哈拉》、《稻草人》、《雨季不再来》，我很迷恋的一个女人，羡慕她与荷西的深情。李同学有些难过，提到三毛内心纵使五味杂陈却想不出辞藻表达。借用高老师的一句\n",
      "\n",
      "话，“一生温暖纯良，不舍爱与自由”，这是高老师送给女儿的祝愿，三毛是真真过成了这样的一生。此话也送给自己。研究生期间读的比较杂，今何在的《悟空传》令我醍醐灌\n",
      "\n",
      "顶。起因是这样的，我不明白年末贺岁大片导演们为何百般青睐这孙猴儿，从小到大，会十八般武艺的齐天大圣以各种影视形式出现在荧幕上，不是玄奘、沙僧、八戒，独有\n",
      "\n",
      "这“泼猴”，仅此一份。看了影片写了影评，朋友微博抽奖得了本《悟空传》送给了我。我是在回学校的火车上翻开的这本书，我总形容绿皮火车是市井生活的大杂烩，喜欢坐火\n",
      "\n",
      "车却习惯不了泡面味儿。感受不佳，阅读也毫无兴致。我记不得是哪个节日，宿舍只我一人，扫了一眼书架，又翻开了这本书，我是一口气读完的，过程中不断为今何在的解读惊\n",
      "\n",
      "叹。《西游记》不单单讲西天取经、打怪升级的故事，今何在给我讲了另一个故事。西天就在西方？向西走就是前进？紧箍咒是玄奘的武器还是孙猴儿的心魔？个中滋味，如人饮\n",
      "\n",
      "水，冷暖自知。读《穆斯林的葬礼》、《挪威的森林》、《追风筝的人》让我热泪盈眶，身处绝境依然用尽微薄但是全部的力量施与善意，他们是手朝下的人，随时准备着给予。\n",
      "\n",
      "也要做这般人，手朝下。还会读很多很多书，那些书中不明白的道理，在日后某一瞬间突然就懂了那便是岁月的力量。\n"
     ]
    }
   ],
   "source": [
    "for line in open(\"read.txt\"):\n",
    "    print(line)"
   ]
  },
  {
   "cell_type": "code",
   "execution_count": null,
   "metadata": {
    "collapsed": true
   },
   "outputs": [],
   "source": []
  }
 ],
 "metadata": {
  "kernelspec": {
   "display_name": "Python 3",
   "language": "python",
   "name": "python3"
  },
  "language_info": {
   "codemirror_mode": {
    "name": "ipython",
    "version": 3
   },
   "file_extension": ".py",
   "mimetype": "text/x-python",
   "name": "python",
   "nbconvert_exporter": "python",
   "pygments_lexer": "ipython3",
   "version": "3.6.3"
  }
 },
 "nbformat": 4,
 "nbformat_minor": 1
}
