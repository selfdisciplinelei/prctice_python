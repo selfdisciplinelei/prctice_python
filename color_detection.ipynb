{
 "cells": [
  {
   "cell_type": "code",
   "execution_count": null,
   "metadata": {
    "collapsed": true
   },
   "outputs": [],
   "source": [
    "from PIL import Image\n",
    "import operator\n",
    "import os\n",
    "import numpy as np\n",
    "path1=''\n",
    "path2=''\n",
    "rgb_file=os.open(path1).readlines()\n",
    "rgb=[]\n",
    "rgb_color={}\n",
    "for i in rgb_file:\n",
    "    RGB=i.split('\\n')[1].split(',')\n",
    "    RGB=list(map(int,RGB))\n",
    "    rgb.append(RGB)\n",
    "    color=i.split('\\n')[-1]\n",
    "    rgb_color.append([RGB,color])\n",
    "color_count={}\n",
    "red=0\n",
    "white=0\n",
    "black=0\n",
    "num=0\n",
    "for IMG in os.listdir(path2):\n",
    "    image=open(path2+IMG)\n",
    "    image_color=image.getcolors(555555)\n",
    "    if image_color==NULL:\n",
    "        continue\n",
    "    for i in range(0,300):\n",
    "        rgb_value=np.array(RGB)-np.array(list(image_color[i][1])*len(rgb_color))\n",
    "        value_sum=sum(rgb)\n",
    "        value_min=sorted(value_sum)[0]\n",
    "        j=value_sum.index(value_min)\n",
    "        label=rgb_color[j][1]\n",
    "        if label in color_count:\n",
    "            color_count[label]+=image_color[i][0]\n",
    "        else:\n",
    "            color_count[label]=image_color[i][0]\n",
    "    if '红' in color_count and color_count[红]>1000:\n",
    "        result=红\n",
    "    elif '黑' in color_count:\n",
    "        color_count[黑]-=3000\n",
    "        color_count=sorted(color_count,key=operator.itemgetter(1))\n",
    "        result=color_count[0][0]\n",
    "    if result=='红' and image[0]=='红':\n",
    "        red+=1\n",
    "    if result=='黑' and image[0]=='黑':\n",
    "        black+=1\n",
    "    if result=='白' and image[0]=='白':\n",
    "        white+=1\n",
    "    num+=1\n",
    "accuarcy=(red+black+white)/num\n",
    "print(\"accuracy:\",accuarcy)\n",
    "print(\"red:\",red)\n",
    "print(\"black:\",black)\n",
    "print(\"white:\",white)\n",
    "\n",
    "        \n",
    "    "
   ]
  }
 ],
 "metadata": {
  "kernelspec": {
   "display_name": "Python 3",
   "language": "python",
   "name": "python3"
  },
  "language_info": {
   "codemirror_mode": {
    "name": "ipython",
    "version": 3
   },
   "file_extension": ".py",
   "mimetype": "text/x-python",
   "name": "python",
   "nbconvert_exporter": "python",
   "pygments_lexer": "ipython3",
   "version": "3.6.3"
  }
 },
 "nbformat": 4,
 "nbformat_minor": 2
}
